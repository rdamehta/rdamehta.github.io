{
 "cells": [
  {
   "cell_type": "markdown",
   "metadata": {},
   "source": [
    "## African Conflicts\n",
    "The data is from African Conflict Location and Event Data Project and can be downloaded from Kaggle https://www.kaggle.com/jboysen/african-conflicts\n",
    "\n",
    "From the Kaggle Description:\n",
    "\n",
    "\"This dataset codes the dates and locations of all reported political violence and protest events in dozens of developing countries in Africa. Political violence and protest includes events that occur within civil wars and periods of instability, public protest and regime breakdown. The project covers all African countries from 1997 to the present.\""
   ]
  },
  {
   "cell_type": "code",
   "execution_count": 49,
   "metadata": {
    "collapsed": true
   },
   "outputs": [],
   "source": [
    "import numpy as np\n",
    "import pandas as pd\n",
    "import matplotlib.pyplot as plt\n",
    "import seaborn as sns\n",
    "%matplotlib inline"
   ]
  },
  {
   "cell_type": "code",
   "execution_count": 50,
   "metadata": {
    "collapsed": false
   },
   "outputs": [
    {
     "data": {
      "text/html": [
       "<div>\n",
       "<table border=\"1\" class=\"dataframe\">\n",
       "  <thead>\n",
       "    <tr style=\"text-align: right;\">\n",
       "      <th></th>\n",
       "      <th>ACTOR1</th>\n",
       "      <th>ACTOR1_ID</th>\n",
       "      <th>ACTOR2</th>\n",
       "      <th>ACTOR2_ID</th>\n",
       "      <th>ACTOR_DYAD_ID</th>\n",
       "      <th>ADMIN1</th>\n",
       "      <th>ADMIN2</th>\n",
       "      <th>ADMIN3</th>\n",
       "      <th>ALLY_ACTOR_1</th>\n",
       "      <th>ALLY_ACTOR_2</th>\n",
       "      <th>COUNTRY</th>\n",
       "      <th>EVENT_DATE</th>\n",
       "      <th>EVENT_ID_CNTY</th>\n",
       "      <th>EVENT_ID_NO_CNTY</th>\n",
       "      <th>EVENT_TYPE</th>\n",
       "      <th>FATALITIES</th>\n",
       "      <th>GEO_PRECISION</th>\n",
       "      <th>GWNO</th>\n",
       "      <th>INTER1</th>\n",
       "      <th>INTER2</th>\n",
       "      <th>INTERACTION</th>\n",
       "      <th>LATITUDE</th>\n",
       "      <th>LOCATION</th>\n",
       "      <th>LONGITUDE</th>\n",
       "      <th>NOTES</th>\n",
       "      <th>SOURCE</th>\n",
       "      <th>TIME_PRECISION</th>\n",
       "      <th>YEAR</th>\n",
       "    </tr>\n",
       "  </thead>\n",
       "  <tbody>\n",
       "    <tr>\n",
       "      <th>0</th>\n",
       "      <td>Police Forces of Algeria (1999-)</td>\n",
       "      <td>NaN</td>\n",
       "      <td>Civilians (Algeria)</td>\n",
       "      <td>NaN</td>\n",
       "      <td>NaN</td>\n",
       "      <td>Tizi Ouzou</td>\n",
       "      <td>Beni-Douala</td>\n",
       "      <td>NaN</td>\n",
       "      <td>NaN</td>\n",
       "      <td>Berber Ethnic Group (Algeria)</td>\n",
       "      <td>Algeria</td>\n",
       "      <td>18/04/2001</td>\n",
       "      <td>1416RTA</td>\n",
       "      <td>NaN</td>\n",
       "      <td>Violence against civilians</td>\n",
       "      <td>1</td>\n",
       "      <td>1</td>\n",
       "      <td>615</td>\n",
       "      <td>1</td>\n",
       "      <td>7</td>\n",
       "      <td>17</td>\n",
       "      <td>36.61954</td>\n",
       "      <td>Beni Douala</td>\n",
       "      <td>4.08282</td>\n",
       "      <td>A Berber student was shot while in police cust...</td>\n",
       "      <td>Associated Press Online</td>\n",
       "      <td>1</td>\n",
       "      <td>2001</td>\n",
       "    </tr>\n",
       "    <tr>\n",
       "      <th>1</th>\n",
       "      <td>Rioters (Algeria)</td>\n",
       "      <td>NaN</td>\n",
       "      <td>Police Forces of Algeria (1999-)</td>\n",
       "      <td>NaN</td>\n",
       "      <td>NaN</td>\n",
       "      <td>Tizi Ouzou</td>\n",
       "      <td>Tizi Ouzou</td>\n",
       "      <td>NaN</td>\n",
       "      <td>Berber Ethnic Group (Algeria)</td>\n",
       "      <td>NaN</td>\n",
       "      <td>Algeria</td>\n",
       "      <td>19/04/2001</td>\n",
       "      <td>2229RTA</td>\n",
       "      <td>NaN</td>\n",
       "      <td>Riots/Protests</td>\n",
       "      <td>0</td>\n",
       "      <td>3</td>\n",
       "      <td>615</td>\n",
       "      <td>5</td>\n",
       "      <td>1</td>\n",
       "      <td>15</td>\n",
       "      <td>36.71183</td>\n",
       "      <td>Tizi Ouzou</td>\n",
       "      <td>4.04591</td>\n",
       "      <td>Riots were reported in numerous villages in Ka...</td>\n",
       "      <td>Kabylie report</td>\n",
       "      <td>1</td>\n",
       "      <td>2001</td>\n",
       "    </tr>\n",
       "    <tr>\n",
       "      <th>2</th>\n",
       "      <td>Protesters (Algeria)</td>\n",
       "      <td>NaN</td>\n",
       "      <td>NaN</td>\n",
       "      <td>NaN</td>\n",
       "      <td>NaN</td>\n",
       "      <td>Bejaia</td>\n",
       "      <td>Amizour</td>\n",
       "      <td>NaN</td>\n",
       "      <td>Students (Algeria)</td>\n",
       "      <td>NaN</td>\n",
       "      <td>Algeria</td>\n",
       "      <td>20/04/2001</td>\n",
       "      <td>2230RTA</td>\n",
       "      <td>NaN</td>\n",
       "      <td>Riots/Protests</td>\n",
       "      <td>0</td>\n",
       "      <td>1</td>\n",
       "      <td>615</td>\n",
       "      <td>6</td>\n",
       "      <td>0</td>\n",
       "      <td>60</td>\n",
       "      <td>36.64022</td>\n",
       "      <td>Amizour</td>\n",
       "      <td>4.90131</td>\n",
       "      <td>Students protested in the Amizour area. At lea...</td>\n",
       "      <td>Crisis Group</td>\n",
       "      <td>1</td>\n",
       "      <td>2001</td>\n",
       "    </tr>\n",
       "    <tr>\n",
       "      <th>3</th>\n",
       "      <td>Rioters (Algeria)</td>\n",
       "      <td>NaN</td>\n",
       "      <td>Police Forces of Algeria (1999-)</td>\n",
       "      <td>NaN</td>\n",
       "      <td>NaN</td>\n",
       "      <td>Bejaia</td>\n",
       "      <td>Amizour</td>\n",
       "      <td>NaN</td>\n",
       "      <td>Berber Ethnic Group (Algeria)</td>\n",
       "      <td>NaN</td>\n",
       "      <td>Algeria</td>\n",
       "      <td>21/04/2001</td>\n",
       "      <td>2231RTA</td>\n",
       "      <td>NaN</td>\n",
       "      <td>Riots/Protests</td>\n",
       "      <td>0</td>\n",
       "      <td>1</td>\n",
       "      <td>615</td>\n",
       "      <td>5</td>\n",
       "      <td>1</td>\n",
       "      <td>15</td>\n",
       "      <td>36.64022</td>\n",
       "      <td>Amizour</td>\n",
       "      <td>4.90131</td>\n",
       "      <td>Rioters threw molotov cocktails, rocks and bur...</td>\n",
       "      <td>Kabylie report</td>\n",
       "      <td>1</td>\n",
       "      <td>2001</td>\n",
       "    </tr>\n",
       "    <tr>\n",
       "      <th>4</th>\n",
       "      <td>Rioters (Algeria)</td>\n",
       "      <td>NaN</td>\n",
       "      <td>Police Forces of Algeria (1999-)</td>\n",
       "      <td>NaN</td>\n",
       "      <td>NaN</td>\n",
       "      <td>Tizi Ouzou</td>\n",
       "      <td>Beni-Douala</td>\n",
       "      <td>NaN</td>\n",
       "      <td>Berber Ethnic Group (Algeria)</td>\n",
       "      <td>NaN</td>\n",
       "      <td>Algeria</td>\n",
       "      <td>21/04/2001</td>\n",
       "      <td>2232RTA</td>\n",
       "      <td>NaN</td>\n",
       "      <td>Riots/Protests</td>\n",
       "      <td>0</td>\n",
       "      <td>1</td>\n",
       "      <td>615</td>\n",
       "      <td>5</td>\n",
       "      <td>1</td>\n",
       "      <td>15</td>\n",
       "      <td>36.61954</td>\n",
       "      <td>Beni Douala</td>\n",
       "      <td>4.08282</td>\n",
       "      <td>Rioters threw molotov cocktails, rocks and bur...</td>\n",
       "      <td>Kabylie report</td>\n",
       "      <td>1</td>\n",
       "      <td>2001</td>\n",
       "    </tr>\n",
       "  </tbody>\n",
       "</table>\n",
       "</div>"
      ],
      "text/plain": [
       "                             ACTOR1  ACTOR1_ID  \\\n",
       "0  Police Forces of Algeria (1999-)        NaN   \n",
       "1                 Rioters (Algeria)        NaN   \n",
       "2              Protesters (Algeria)        NaN   \n",
       "3                 Rioters (Algeria)        NaN   \n",
       "4                 Rioters (Algeria)        NaN   \n",
       "\n",
       "                             ACTOR2  ACTOR2_ID ACTOR_DYAD_ID      ADMIN1  \\\n",
       "0               Civilians (Algeria)        NaN           NaN  Tizi Ouzou   \n",
       "1  Police Forces of Algeria (1999-)        NaN           NaN  Tizi Ouzou   \n",
       "2                               NaN        NaN           NaN      Bejaia   \n",
       "3  Police Forces of Algeria (1999-)        NaN           NaN      Bejaia   \n",
       "4  Police Forces of Algeria (1999-)        NaN           NaN  Tizi Ouzou   \n",
       "\n",
       "        ADMIN2 ADMIN3                   ALLY_ACTOR_1  \\\n",
       "0  Beni-Douala    NaN                            NaN   \n",
       "1   Tizi Ouzou    NaN  Berber Ethnic Group (Algeria)   \n",
       "2      Amizour    NaN             Students (Algeria)   \n",
       "3      Amizour    NaN  Berber Ethnic Group (Algeria)   \n",
       "4  Beni-Douala    NaN  Berber Ethnic Group (Algeria)   \n",
       "\n",
       "                    ALLY_ACTOR_2  COUNTRY  EVENT_DATE EVENT_ID_CNTY  \\\n",
       "0  Berber Ethnic Group (Algeria)  Algeria  18/04/2001       1416RTA   \n",
       "1                            NaN  Algeria  19/04/2001       2229RTA   \n",
       "2                            NaN  Algeria  20/04/2001       2230RTA   \n",
       "3                            NaN  Algeria  21/04/2001       2231RTA   \n",
       "4                            NaN  Algeria  21/04/2001       2232RTA   \n",
       "\n",
       "   EVENT_ID_NO_CNTY                  EVENT_TYPE  FATALITIES  GEO_PRECISION  \\\n",
       "0               NaN  Violence against civilians           1              1   \n",
       "1               NaN              Riots/Protests           0              3   \n",
       "2               NaN              Riots/Protests           0              1   \n",
       "3               NaN              Riots/Protests           0              1   \n",
       "4               NaN              Riots/Protests           0              1   \n",
       "\n",
       "   GWNO  INTER1  INTER2  INTERACTION  LATITUDE     LOCATION LONGITUDE  \\\n",
       "0   615       1       7           17  36.61954  Beni Douala   4.08282   \n",
       "1   615       5       1           15  36.71183   Tizi Ouzou   4.04591   \n",
       "2   615       6       0           60  36.64022      Amizour   4.90131   \n",
       "3   615       5       1           15  36.64022      Amizour   4.90131   \n",
       "4   615       5       1           15  36.61954  Beni Douala   4.08282   \n",
       "\n",
       "                                               NOTES                   SOURCE  \\\n",
       "0  A Berber student was shot while in police cust...  Associated Press Online   \n",
       "1  Riots were reported in numerous villages in Ka...           Kabylie report   \n",
       "2  Students protested in the Amizour area. At lea...             Crisis Group   \n",
       "3  Rioters threw molotov cocktails, rocks and bur...           Kabylie report   \n",
       "4  Rioters threw molotov cocktails, rocks and bur...           Kabylie report   \n",
       "\n",
       "   TIME_PRECISION  YEAR  \n",
       "0               1  2001  \n",
       "1               1  2001  \n",
       "2               1  2001  \n",
       "3               1  2001  \n",
       "4               1  2001  "
      ]
     },
     "execution_count": 50,
     "metadata": {},
     "output_type": "execute_result"
    }
   ],
   "source": [
    "pd.options.display.max_columns = 999\n",
    "df = pd.read_csv('african_conflicts.csv', encoding ='latin1', low_memory = False)\n",
    "df.head()"
   ]
  },
  {
   "cell_type": "code",
   "execution_count": 51,
   "metadata": {
    "collapsed": false
   },
   "outputs": [
    {
     "name": "stdout",
     "output_type": "stream",
     "text": [
      "<class 'pandas.core.frame.DataFrame'>\n",
      "RangeIndex: 165808 entries, 0 to 165807\n",
      "Data columns (total 28 columns):\n",
      "ACTOR1              165808 non-null object\n",
      "ACTOR1_ID           140747 non-null float64\n",
      "ACTOR2              122255 non-null object\n",
      "ACTOR2_ID           140747 non-null float64\n",
      "ACTOR_DYAD_ID       140747 non-null object\n",
      "ADMIN1              165808 non-null object\n",
      "ADMIN2              165676 non-null object\n",
      "ADMIN3              86933 non-null object\n",
      "ALLY_ACTOR_1        28144 non-null object\n",
      "ALLY_ACTOR_2        19651 non-null object\n",
      "COUNTRY             165808 non-null object\n",
      "EVENT_DATE          165808 non-null object\n",
      "EVENT_ID_CNTY       165808 non-null object\n",
      "EVENT_ID_NO_CNTY    140747 non-null float64\n",
      "EVENT_TYPE          165808 non-null object\n",
      "FATALITIES          165808 non-null int64\n",
      "GEO_PRECISION       165808 non-null int64\n",
      "GWNO                165808 non-null int64\n",
      "INTER1              165808 non-null int64\n",
      "INTER2              165808 non-null int64\n",
      "INTERACTION         165808 non-null int64\n",
      "LATITUDE            165808 non-null object\n",
      "LOCATION            165805 non-null object\n",
      "LONGITUDE           165808 non-null object\n",
      "NOTES               155581 non-null object\n",
      "SOURCE              165635 non-null object\n",
      "TIME_PRECISION      165808 non-null int64\n",
      "YEAR                165808 non-null int64\n",
      "dtypes: float64(3), int64(8), object(17)\n",
      "memory usage: 35.4+ MB\n"
     ]
    }
   ],
   "source": [
    "df.info()"
   ]
  },
  {
   "cell_type": "markdown",
   "metadata": {},
   "source": [
    "There are a lot of columns|variables|features in this data set. I'm particularly interested Country where a conflict occured, which countries or groups of people were involved, when the event took place, How many fatalities, some notes on the conflict, and what type of conflict was it.\n",
    "\n",
    "So I am going to limit our data set to these columns\n",
    "\n"
   ]
  },
  {
   "cell_type": "code",
   "execution_count": 52,
   "metadata": {
    "collapsed": false
   },
   "outputs": [
    {
     "data": {
      "text/html": [
       "<div>\n",
       "<table border=\"1\" class=\"dataframe\">\n",
       "  <thead>\n",
       "    <tr style=\"text-align: right;\">\n",
       "      <th></th>\n",
       "      <th>ACTOR1</th>\n",
       "      <th>ACTOR2</th>\n",
       "      <th>ADMIN1</th>\n",
       "      <th>ADMIN2</th>\n",
       "      <th>COUNTRY</th>\n",
       "      <th>LOCATION</th>\n",
       "      <th>EVENT_DATE</th>\n",
       "      <th>EVENT_TYPE</th>\n",
       "      <th>INTERACTION</th>\n",
       "      <th>FATALITIES</th>\n",
       "      <th>NOTES</th>\n",
       "    </tr>\n",
       "  </thead>\n",
       "  <tbody>\n",
       "    <tr>\n",
       "      <th>0</th>\n",
       "      <td>Police Forces of Algeria (1999-)</td>\n",
       "      <td>Civilians (Algeria)</td>\n",
       "      <td>Tizi Ouzou</td>\n",
       "      <td>Beni-Douala</td>\n",
       "      <td>Algeria</td>\n",
       "      <td>Beni Douala</td>\n",
       "      <td>18/04/2001</td>\n",
       "      <td>Violence against civilians</td>\n",
       "      <td>17</td>\n",
       "      <td>1</td>\n",
       "      <td>A Berber student was shot while in police cust...</td>\n",
       "    </tr>\n",
       "    <tr>\n",
       "      <th>1</th>\n",
       "      <td>Rioters (Algeria)</td>\n",
       "      <td>Police Forces of Algeria (1999-)</td>\n",
       "      <td>Tizi Ouzou</td>\n",
       "      <td>Tizi Ouzou</td>\n",
       "      <td>Algeria</td>\n",
       "      <td>Tizi Ouzou</td>\n",
       "      <td>19/04/2001</td>\n",
       "      <td>Riots/Protests</td>\n",
       "      <td>15</td>\n",
       "      <td>0</td>\n",
       "      <td>Riots were reported in numerous villages in Ka...</td>\n",
       "    </tr>\n",
       "    <tr>\n",
       "      <th>2</th>\n",
       "      <td>Protesters (Algeria)</td>\n",
       "      <td>NaN</td>\n",
       "      <td>Bejaia</td>\n",
       "      <td>Amizour</td>\n",
       "      <td>Algeria</td>\n",
       "      <td>Amizour</td>\n",
       "      <td>20/04/2001</td>\n",
       "      <td>Riots/Protests</td>\n",
       "      <td>60</td>\n",
       "      <td>0</td>\n",
       "      <td>Students protested in the Amizour area. At lea...</td>\n",
       "    </tr>\n",
       "    <tr>\n",
       "      <th>3</th>\n",
       "      <td>Rioters (Algeria)</td>\n",
       "      <td>Police Forces of Algeria (1999-)</td>\n",
       "      <td>Bejaia</td>\n",
       "      <td>Amizour</td>\n",
       "      <td>Algeria</td>\n",
       "      <td>Amizour</td>\n",
       "      <td>21/04/2001</td>\n",
       "      <td>Riots/Protests</td>\n",
       "      <td>15</td>\n",
       "      <td>0</td>\n",
       "      <td>Rioters threw molotov cocktails, rocks and bur...</td>\n",
       "    </tr>\n",
       "    <tr>\n",
       "      <th>4</th>\n",
       "      <td>Rioters (Algeria)</td>\n",
       "      <td>Police Forces of Algeria (1999-)</td>\n",
       "      <td>Tizi Ouzou</td>\n",
       "      <td>Beni-Douala</td>\n",
       "      <td>Algeria</td>\n",
       "      <td>Beni Douala</td>\n",
       "      <td>21/04/2001</td>\n",
       "      <td>Riots/Protests</td>\n",
       "      <td>15</td>\n",
       "      <td>0</td>\n",
       "      <td>Rioters threw molotov cocktails, rocks and bur...</td>\n",
       "    </tr>\n",
       "  </tbody>\n",
       "</table>\n",
       "</div>"
      ],
      "text/plain": [
       "                             ACTOR1                            ACTOR2  \\\n",
       "0  Police Forces of Algeria (1999-)               Civilians (Algeria)   \n",
       "1                 Rioters (Algeria)  Police Forces of Algeria (1999-)   \n",
       "2              Protesters (Algeria)                               NaN   \n",
       "3                 Rioters (Algeria)  Police Forces of Algeria (1999-)   \n",
       "4                 Rioters (Algeria)  Police Forces of Algeria (1999-)   \n",
       "\n",
       "       ADMIN1       ADMIN2  COUNTRY     LOCATION  EVENT_DATE  \\\n",
       "0  Tizi Ouzou  Beni-Douala  Algeria  Beni Douala  18/04/2001   \n",
       "1  Tizi Ouzou   Tizi Ouzou  Algeria   Tizi Ouzou  19/04/2001   \n",
       "2      Bejaia      Amizour  Algeria      Amizour  20/04/2001   \n",
       "3      Bejaia      Amizour  Algeria      Amizour  21/04/2001   \n",
       "4  Tizi Ouzou  Beni-Douala  Algeria  Beni Douala  21/04/2001   \n",
       "\n",
       "                   EVENT_TYPE  INTERACTION  FATALITIES  \\\n",
       "0  Violence against civilians           17           1   \n",
       "1              Riots/Protests           15           0   \n",
       "2              Riots/Protests           60           0   \n",
       "3              Riots/Protests           15           0   \n",
       "4              Riots/Protests           15           0   \n",
       "\n",
       "                                               NOTES  \n",
       "0  A Berber student was shot while in police cust...  \n",
       "1  Riots were reported in numerous villages in Ka...  \n",
       "2  Students protested in the Amizour area. At lea...  \n",
       "3  Rioters threw molotov cocktails, rocks and bur...  \n",
       "4  Rioters threw molotov cocktails, rocks and bur...  "
      ]
     },
     "execution_count": 52,
     "metadata": {},
     "output_type": "execute_result"
    }
   ],
   "source": [
    "df = df.loc[:,['ACTOR1', 'ACTOR2', 'ADMIN1', 'ADMIN2','COUNTRY', 'LOCATION', 'EVENT_DATE', 'EVENT_TYPE', 'INTERACTION', 'FATALITIES', 'NOTES']]\n",
    "df.head()"
   ]
  },
  {
   "cell_type": "markdown",
   "metadata": {},
   "source": [
    "The column Interaction actually tells us quite a bit. The first digit is the type of Actor 1, and the second digit is the type of Actor 2. From the Userguide:\n",
    "\n",
    "A numeric code indicating the interaction \n",
    "between types of ACTOR1 and ACTOR2. \n",
    "Coded as an interaction between\n",
    "actor types, and recorded as\n",
    "lowest joint number:\n",
    "\n",
    "- 1 Government/Military/Police\n",
    "- 2 Rebel group\n",
    "- 3 Political Militia\n",
    "- 4 Communal Militia\n",
    "- 5 Rioters\n",
    "- 6 Protestors\n",
    "- 7 Civilians\n",
    "- 8 Other (e.g. Regional groups\n",
    "such as AFICOM; or UN\n",
    "\n",
    "\n",
    "e.g.  When  the  action  is \n",
    "between   a \n",
    "government   and   a \n",
    "rebel  group,  this  will  be  coded  as \n",
    "12; when a political militia attacks \n",
    "civilians, it is coded as 37."
   ]
  },
  {
   "cell_type": "code",
   "execution_count": 53,
   "metadata": {
    "collapsed": false
   },
   "outputs": [
    {
     "name": "stdout",
     "output_type": "stream",
     "text": [
      "<class 'pandas.core.frame.DataFrame'>\n",
      "RangeIndex: 165808 entries, 0 to 165807\n",
      "Data columns (total 11 columns):\n",
      "ACTOR1         165808 non-null object\n",
      "ACTOR2         122255 non-null object\n",
      "ADMIN1         165808 non-null object\n",
      "ADMIN2         165676 non-null object\n",
      "COUNTRY        165808 non-null object\n",
      "LOCATION       165805 non-null object\n",
      "EVENT_DATE     165808 non-null object\n",
      "EVENT_TYPE     165808 non-null object\n",
      "INTERACTION    165808 non-null int64\n",
      "FATALITIES     165808 non-null int64\n",
      "NOTES          155581 non-null object\n",
      "dtypes: int64(2), object(9)\n",
      "memory usage: 13.9+ MB\n"
     ]
    }
   ],
   "source": [
    "df.info()"
   ]
  },
  {
   "cell_type": "markdown",
   "metadata": {},
   "source": [
    "Suprisingly the above shows that we don't have a lot of Null values. Only in places we might expect such as 'Notes' or 'Actor2'. I know I'm want to explore conflicts as they progress over time so I better enocde Event_Date as a datetime object"
   ]
  },
  {
   "cell_type": "code",
   "execution_count": 54,
   "metadata": {
    "collapsed": false
   },
   "outputs": [],
   "source": [
    "df['EVENT_DATE'] = pd.to_datetime(df['EVENT_DATE'])"
   ]
  },
  {
   "cell_type": "markdown",
   "metadata": {},
   "source": [
    "### Exploratory Data Analysis"
   ]
  },
  {
   "cell_type": "markdown",
   "metadata": {},
   "source": [
    "Off the bat here are some things I'm curious about:\n",
    "\n",
    "- In the last 5 years which African country had the most conflict events?\n",
    "- most fatalities?\n",
    "- what type of events were those?\n"
   ]
  },
  {
   "cell_type": "code",
   "execution_count": 72,
   "metadata": {
    "collapsed": false
   },
   "outputs": [
    {
     "data": {
      "text/plain": [
       "Somalia                         16916\n",
       "Nigeria                          8933\n",
       "South Africa                     8425\n",
       "Sudan                            7849\n",
       "Egypt                            7829\n",
       "Democratic Republic of Congo     6368\n",
       "Libya                            5752\n",
       "South Sudan                      5083\n",
       "Burundi                          4479\n",
       "Tunisia                          3740\n",
       "Name: COUNTRY, dtype: int64"
      ]
     },
     "execution_count": 72,
     "metadata": {},
     "output_type": "execute_result"
    }
   ],
   "source": [
    "df[doi].COUNTRY.value_counts().head(10)"
   ]
  },
  {
   "cell_type": "code",
   "execution_count": 55,
   "metadata": {
    "collapsed": false
   },
   "outputs": [
    {
     "data": {
      "text/plain": [
       "(array([0, 1, 2, 3, 4, 5, 6, 7, 8, 9]), <a list of 10 Text xticklabel objects>)"
      ]
     },
     "execution_count": 55,
     "metadata": {},
     "output_type": "execute_result"
    },
    {
     "data": {
      "image/png": "[encoded data removed]",
      "text/plain": [
       "<matplotlib.figure.Figure at 0x1fcd4f4cac8>"
      ]
     },
     "metadata": {},
     "output_type": "display_data"
    }
   ],
   "source": [
    "doi = df['EVENT_DATE'] > '2012'\n",
    "plt.figure(figsize=(8,6))\n",
    "sns.countplot(x = 'COUNTRY',data = df[doi], order=df[doi].COUNTRY.value_counts().head(10).index,\n",
    "             )\n",
    "plt.xticks(rotation = 90)"
   ]
  },
  {
   "cell_type": "markdown",
   "metadata": {},
   "source": [
    "In the last 5 years Somalia by far has had the most events, more that double that most of the other African Countries. The list isnt too suprising if you've been paying attention to the news. We see some North African Countries: Libya, Tunisia, Egypt so this data shows the after effects of Arab Springs. Remember also that in 2011 Gadaffi was overthrown.\n",
    "\n",
    "Lets see this list by fatalities"
   ]
  },
  {
   "cell_type": "code",
   "execution_count": 81,
   "metadata": {
    "collapsed": false,
    "scrolled": true
   },
   "outputs": [
    {
     "data": {
      "text/plain": [
       "<matplotlib.text.Text at 0x1fcdf569668>"
      ]
     },
     "execution_count": 81,
     "metadata": {},
     "output_type": "execute_result"
    },
    {
     "data": {
      "image/png": "[encoded data removed]",
      "text/plain": [
       "<matplotlib.figure.Figure at 0x1fcdee6e2e8>"
      ]
     },
     "metadata": {},
     "output_type": "display_data"
    }
   ],
   "source": [
    "plt.figure(figsize=(8,6))\n",
    "sns.barplot(x='COUNTRY', y='FATALITIES', data = df[doi],\n",
    "            estimator = sum,\n",
    "            ci = None,\n",
    "           order = df[doi].groupby('COUNTRY')['FATALITIES'].sum().sort_values(ascending = False).head(10).index)\n",
    "\n",
    "plt.xticks(rotation = 90)\n",
    "plt.ylabel('Total Sum of Fatalities')"
   ]
  },
  {
   "cell_type": "markdown",
   "metadata": {},
   "source": [
    "Very very interesting! Although Somalia had the most number of incidents, Nigeria by far had the most fatalities. I wonder what type of conflicts occured there? Lets take a look!"
   ]
  },
  {
   "cell_type": "code",
   "execution_count": 93,
   "metadata": {
    "collapsed": false
   },
   "outputs": [],
   "source": [
    "dfdoi = df[doi]\n"
   ]
  },
  {
   "cell_type": "code",
   "execution_count": 95,
   "metadata": {
    "collapsed": false
   },
   "outputs": [
    {
     "data": {
      "text/plain": [
       "<matplotlib.axes._subplots.AxesSubplot at 0x1fcdf1b77f0>"
      ]
     },
     "execution_count": 95,
     "metadata": {},
     "output_type": "execute_result"
    },
    {
     "data": {
      "image/png": "[encoded data removed]",
      "text/plain": [
       "<matplotlib.figure.Figure at 0x1fcdf014c50>"
      ]
     },
     "metadata": {},
     "output_type": "display_data"
    }
   ],
   "source": [
    "nigeria = dfdoi['COUNTRY']=='Nigeria'\n",
    "plt.figure(figsize = (12,6))\n",
    "sns.countplot(x = 'INTERACTION', data = dfdoi[nigeria])"
   ]
  },
  {
   "cell_type": "markdown",
   "metadata": {},
   "source": [
    "60 refers to Protestors Sole Action, that actually is a decent measure of unrest in a country, and entirely possible there were no fatalities during many of these protests. Lets do a quick pandas query sorting INTERACTION type by number of fatalities"
   ]
  },
  {
   "cell_type": "code",
   "execution_count": 99,
   "metadata": {
    "collapsed": false
   },
   "outputs": [
    {
     "data": {
      "text/plain": [
       "INTERACTION\n",
       "12    9807\n",
       "37    8388\n",
       "27    7781\n",
       "47    5730\n",
       "13    3951\n",
       "44    1432\n",
       "17    1285\n",
       "28     681\n",
       "34     588\n",
       "15     428\n",
       "33     390\n",
       "14     339\n",
       "23     284\n",
       "24     238\n",
       "55     189\n",
       "16      69\n",
       "22      46\n",
       "50      44\n",
       "57      41\n",
       "11      32\n",
       "20      14\n",
       "78      10\n",
       "38       8\n",
       "56       8\n",
       "30       5\n",
       "36       5\n",
       "35       2\n",
       "46       2\n",
       "60       2\n",
       "18       1\n",
       "58       1\n",
       "26       0\n",
       "66       0\n",
       "40       0\n",
       "45       0\n",
       "48       0\n",
       "10       0\n",
       "Name: FATALITIES, dtype: int64"
      ]
     },
     "execution_count": 99,
     "metadata": {},
     "output_type": "execute_result"
    }
   ],
   "source": [
    "dfdoi[nigeria].groupby('INTERACTION')['FATALITIES'].sum().sort_values(ascending = False)"
   ]
  },
  {
   "cell_type": "markdown",
   "metadata": {},
   "source": [
    "AHA! This tells us much more information. Turns out there were 2 fatalities in all of those protests. And almost 10,000 people were killed in MILITARY vs REBEL conflicts. \n",
    "\n",
    "Also take a look at the next 3 numbers. Theres a common element, the digit '7'. This unfortunately represents Civilians. As in there was a vast amount of fatal violent conflicts directed towards Civilians by Military, Rebel, and Militia groups. An unfortunate reality that is all too common in places where multiple factions are fighting for a piece of the pie"
   ]
  },
  {
   "cell_type": "markdown",
   "metadata": {},
   "source": [
    "\n",
    "\n",
    "This was just a brief introduction into the dataset. I am definitly going to make this a series where I'll gather insights, throw in some interactive plots, and definitly maps to help visualize the conflicts that have ravaged one of most beautiful continents on Earth. "
   ]
  },
  {
   "cell_type": "code",
   "execution_count": null,
   "metadata": {
    "collapsed": true
   },
   "outputs": [],
   "source": []
  }
 ],
 "metadata": {
  "kernelspec": {
   "display_name": "Python 3",
   "language": "python",
   "name": "python3"
  },
  "language_info": {
   "codemirror_mode": {
    "name": "ipython",
    "version": 3
   },
   "file_extension": ".py",
   "mimetype": "text/x-python",
   "name": "python",
   "nbconvert_exporter": "python",
   "pygments_lexer": "ipython3",
   "version": "3.5.2"
  }
 },
 "nbformat": 4,
 "nbformat_minor": 2
}
